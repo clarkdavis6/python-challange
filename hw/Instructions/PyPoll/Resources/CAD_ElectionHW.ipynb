{
 "cells": [
  {
   "cell_type": "code",
   "execution_count": 1,
   "metadata": {},
   "outputs": [],
   "source": [
    "#Just in case \n",
    "import pandas as pd"
   ]
  },
  {
   "cell_type": "code",
   "execution_count": 2,
   "metadata": {},
   "outputs": [],
   "source": [
    "import os\n",
    "import csv"
   ]
  },
  {
   "cell_type": "code",
   "execution_count": 3,
   "metadata": {},
   "outputs": [],
   "source": [
    "# File to load\n",
    "electionData = os.path.join(\"..\", \"Resources\", \"election_data.csv\")"
   ]
  },
  {
   "cell_type": "code",
   "execution_count": 12,
   "metadata": {},
   "outputs": [],
   "source": [
    "# initalizing variables\n",
    "voteCount = 0\n",
    "candidate = {}\n",
    "candidatePercent = {}\n",
    "winnerCount = 0"
   ]
  },
  {
   "cell_type": "code",
   "execution_count": 5,
   "metadata": {},
   "outputs": [
    {
     "name": "stdout",
     "output_type": "stream",
     "text": [
      "../Resources/election_data.csv\n"
     ]
    }
   ],
   "source": [
    "# Read the CSV into a DataFrame\n",
    "with open(electionData, newline = \"\") as csvfile:\n",
    "    csvreader = csv.reader(csvfile, delimiter = \",\")\n",
    "    next(csvreader, None)\n",
    "    print(electionData)\n",
    "    # Loop through the data and retrive the total votes cast\n",
    "    for row in csvreader:\n",
    "        voteCount += 1\n",
    "        if row[2] in candidate.keys():\n",
    "            candidate[row[2]] += 1\n",
    "    # individual vote count\n",
    "        else:\n",
    "            candidate[row[2]] = 1\n",
    "    "
   ]
  },
  {
   "cell_type": "code",
   "execution_count": 6,
   "metadata": {},
   "outputs": [
    {
     "name": "stdout",
     "output_type": "stream",
     "text": [
      "voteCount = 3521001\n",
      "{'Khan': 2218231, 'Correy': 704200, 'Li': 492940, \"O'Tooley\": 105630}\n"
     ]
    }
   ],
   "source": [
    "print(\"voteCount = \"+ str(voteCount))\n",
    "print(candidate)"
   ]
  },
  {
   "cell_type": "code",
   "execution_count": 7,
   "metadata": {},
   "outputs": [],
   "source": [
    "        for key, value in candidate.items():\n",
    "            candidatePercent[key] = round((value/voteCount) * 100, 2)"
   ]
  },
  {
   "cell_type": "code",
   "execution_count": 8,
   "metadata": {},
   "outputs": [
    {
     "name": "stdout",
     "output_type": "stream",
     "text": [
      "{'Khan': 63.0, 'Correy': 20.0, 'Li': 14.0, \"O'Tooley\": 3.0}\n",
      "3521001\n"
     ]
    }
   ],
   "source": [
    "print(candidatePercent)\n",
    "print(voteCount)"
   ]
  },
  {
   "cell_type": "code",
   "execution_count": 9,
   "metadata": {},
   "outputs": [],
   "source": [
    "for key in candidate.keys():\n",
    "    if candidate[key] > winnerCount:\n",
    "        winner = key\n",
    "        winnerCount = candidate[key]"
   ]
  },
  {
   "cell_type": "code",
   "execution_count": 10,
   "metadata": {},
   "outputs": [
    {
     "name": "stdout",
     "output_type": "stream",
     "text": [
      "Election Results\n",
      "-----------------------\n",
      "Total Votes: 3521001\n",
      "-----------------------\n",
      "Khan: 63.0% (2218231)\n",
      "Correy: 20.0% (704200)\n",
      "Li: 14.0% (492940)\n",
      "O'Tooley: 3.0% (105630)\n",
      "-----------------------\n",
      "Winner: Khan\n",
      "-----------------------\n"
     ]
    }
   ],
   "source": [
    "# printing to the terminal\n",
    "print(\"Election Results\")\n",
    "print(\"-----------------------\")\n",
    "print(\"Total Votes: \" + str(voteCount))\n",
    "print(\"-----------------------\")\n",
    "for key, value in candidate.items():\n",
    "    print(key + \": \" + str(candidatePercent[key]) + \"% (\" + str(value) + \")\")\n",
    "print(\"-----------------------\")\n",
    "print(\"Winner: \" + winner)\n",
    "print(\"-----------------------\")"
   ]
  }
 ],
 "metadata": {
  "kernelspec": {
   "display_name": "Python 3",
   "language": "python",
   "name": "python3"
  },
  "language_info": {
   "codemirror_mode": {
    "name": "ipython",
    "version": 3
   },
   "file_extension": ".py",
   "mimetype": "text/x-python",
   "name": "python",
   "nbconvert_exporter": "python",
   "pygments_lexer": "ipython3",
   "version": "3.6.5"
  }
 },
 "nbformat": 4,
 "nbformat_minor": 2
}
