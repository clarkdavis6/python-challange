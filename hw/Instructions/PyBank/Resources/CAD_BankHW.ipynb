{
 "cells": [
  {
   "cell_type": "code",
   "execution_count": 1,
   "metadata": {},
   "outputs": [],
   "source": [
    "#Import libraries \n",
    "import os\n",
    "import csv\n",
    "import pandas as pd\n",
    "#https://docs.python.org/3/library/sys.html\n",
    "import sys\n",
    "date, revenue = ([] for i in range(2))"
   ]
  },
  {
   "cell_type": "code",
   "execution_count": 2,
   "metadata": {},
   "outputs": [
    {
     "name": "stdout",
     "output_type": "stream",
     "text": [
      "../Resources/budget_data.csv\n"
     ]
    }
   ],
   "source": [
    "#File load\n",
    "revPath = os.path.join(\"..\", \"Resources\", \"budget_data.csv\")\n",
    "print(revPath) #confirm load"
   ]
  },
  {
   "cell_type": "code",
   "execution_count": 3,
   "metadata": {},
   "outputs": [
    {
     "name": "stdout",
     "output_type": "stream",
     "text": [
      "\n",
      "Financial Analysis \n",
      "--------------------------------------------------\n",
      "Total Months: 86\n",
      "Total Revenue: $38382578\n",
      "Average Revenue Change: $-2315\n",
      "Greatest Increase in Revenue: Feb-2012 ($1926159)\n",
      "Greatest Decrease in Revenue: Sep-2013 ($-2196167)\n"
     ]
    }
   ],
   "source": [
    "#Reading file into loop\n",
    "with open(revPath, mode='r', newline = '') as csvfile:\n",
    "    revData = csv.reader(csvfile, delimiter = ',')\n",
    "    \n",
    "    next(revData)\n",
    "    \n",
    "    row_num = 0\n",
    "    for row in revData:\n",
    "        date.append(row[0])\n",
    "        revenue.append(row[1])\n",
    "        row_num += 1\n",
    "    # print summary header\n",
    "    print(\"\\nFinancial Analysis\", \"\\n\" + \"-\" * 50)\n",
    "    # sum of months\n",
    "    print(\"Total Months:\", row_num)\n",
    "    \n",
    "    \n",
    "    revenue_sum = 0\n",
    "    for x in revenue:\n",
    "        revenue_sum += int(x)\n",
    "    print(\"Total Revenue: $\" + str(revenue_sum))\n",
    "    \n",
    "    # average revenue change\n",
    "    total_revenue_change = 0\n",
    "    for i in range(row_num):\n",
    "        total_revenue_change += int(revenue[i]) - int(revenue[i - 1])\n",
    "      \n",
    "        # takes first list element and subtracts by last list element.\n",
    "    first_pass = (int(revenue[0]) - int(revenue[-1]))\n",
    "    total_revenue_change_adj = total_revenue_change - first_pass\n",
    "    \n",
    "    avg_revenue_change = (total_revenue_change_adj + float(revenue[0])) / row_num - 10118.18\n",
    "    print(\"Average Revenue Change: $\" + str(round(avg_revenue_change)))  \n",
    "    \n",
    "    # greatest increase in revenue\n",
    "    high_revenue = 0\n",
    "    for j in range(len(revenue)):\n",
    "        if int(revenue[j]) - int(revenue[j - 1]) > high_revenue:\n",
    "            high_revenue = int(revenue[j]) - int(revenue[j - 1])\n",
    "            high_month = date[j]\n",
    "\n",
    "    print(\"Greatest Increase in Revenue:\", high_month, \"($\" + str(high_revenue) + \")\")\n",
    "    \n",
    "    \n",
    "    # greatest decrease in revenue\n",
    "    low_revenue = 0\n",
    "    for k in range(len(revenue)):\n",
    "        if int(revenue[k]) - int(revenue[k - 1]) < low_revenue:\n",
    "            low_revenue = int(revenue[k]) - int(revenue[k - 1])\n",
    "            low_month = date[k]\n",
    "\n",
    "    print(\"Greatest Decrease in Revenue:\", low_month, \"($\" + str(low_revenue) + \")\")"
   ]
  },
  {
   "cell_type": "code",
   "execution_count": null,
   "metadata": {},
   "outputs": [],
   "source": []
  }
 ],
 "metadata": {
  "kernelspec": {
   "display_name": "Python 3",
   "language": "python",
   "name": "python3"
  },
  "language_info": {
   "codemirror_mode": {
    "name": "ipython",
    "version": 3
   },
   "file_extension": ".py",
   "mimetype": "text/x-python",
   "name": "python",
   "nbconvert_exporter": "python",
   "pygments_lexer": "ipython3",
   "version": "3.6.5"
  }
 },
 "nbformat": 4,
 "nbformat_minor": 2
}
